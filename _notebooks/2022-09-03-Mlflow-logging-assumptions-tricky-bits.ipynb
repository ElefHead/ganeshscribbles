{
 "cells": [
  {
   "cell_type": "markdown",
   "metadata": {},
   "source": [
    "# Mlflow : Inferred assumptions and tricky bits\n",
    "\n",
    "\n",
    "- toc: true\n",
    "- branch: main\n",
    "- comments: true\n",
    "- categories: [experimentation, mlflow, python]"
   ]
  },
  {
   "cell_type": "markdown",
   "metadata": {},
   "source": [
    "I have been using Mlflow for a while now to track experimentation. I am a big user of Mlflow Projects, and while adding the functionality to my projects, I had to infer or figure out some design choices for few functions that I was using the most. Namely,\n",
    "1. Logging parameters (`mlflow.log_params()` or `mlflow.log_param()`)\n",
    "2. Logging artifacts (`mlflow.log_artifacts()` or `mlflow.log_artifact()`)\n",
    "3. Logging models (`mlflow.<insert-library>.log_model()`)\n",
    "\n",
    "And I wanted to collect them in one place. This is _not a guide_ to using mlflow or setting up logging for your own projects, although I will describe some setup. I will also write a bit more about adding support to open-source projects that have opiniated methods for logging, soon! "
   ]
  },
  {
   "cell_type": "markdown",
   "metadata": {},
   "source": []
  }
 ],
 "metadata": {
  "language_info": {
   "name": "python"
  },
  "orig_nbformat": 4
 },
 "nbformat": 4,
 "nbformat_minor": 2
}
